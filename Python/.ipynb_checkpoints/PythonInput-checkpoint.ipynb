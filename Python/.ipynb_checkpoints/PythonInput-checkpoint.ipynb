{
 "cells": [
  {
   "cell_type": "markdown",
   "metadata": {},
   "source": [
    "# Input and Output in Python\n",
    "Inputting data into a program can be the most time intensive activity. Python contains a number of packages designed to import and export data with minimum effort and code. I have included some simple examples below. The most popular package (*or at least the most ubiquitous*) these days is `pandas`. (I have included a pandas cheat sheet in the `main` repository). `Pandas` is a more advanced topic that will be covered later. Right now, all you need to know is that `pandas`introduces a new datatype called `dataframes`. They are powerful and flexible tools for data wrangling.\n",
    "\n",
    "## Details for Navigating File Directories\n",
    "**Details:** You should note that a single backslash does not work when specifying a file path in Python. You need to use a forward slash or add one more backslash as shown in the code below.\n",
    "All the functions below will return a `dataframe`, an object in Python that stores data and allows access with a certain syntax that I often refer to as \"dot notation\"."
   ]
  },
  {
   "cell_type": "code",
   "execution_count": null,
   "metadata": {},
   "outputs": [],
   "source": [
    "# This code is used to navigate the file structure of main. You may or may not need to run this.\n",
    "import os as os\n",
    "cwdup = os.path.split(os.getcwd())\n",
    "os.chdir(cwdup[0])\n",
    "print(cwdup)"
   ]
  },
  {
   "cell_type": "code",
   "execution_count": null,
   "metadata": {},
   "outputs": [],
   "source": [
    "print(os.getcwd())"
   ]
  },
  {
   "cell_type": "code",
   "execution_count": null,
   "metadata": {},
   "outputs": [],
   "source": [
    "os.chdir(cwdup[0]+'\\\\'+cwdup[1])"
   ]
  },
  {
   "cell_type": "code",
   "execution_count": null,
   "metadata": {},
   "outputs": [],
   "source": [
    "print(os.getcwd())"
   ]
  },
  {
   "cell_type": "code",
   "execution_count": null,
   "metadata": {
    "scrolled": true
   },
   "outputs": [],
   "source": [
    "txtfile = \"data//globaltemps.txt\"\n",
    "csvfile = \"data//sunspotsbyyear.csv\"\n",
    "xlsfile = \"data//GlobalCarbonBudget2022.xlsx\""
   ]
  },
  {
   "cell_type": "code",
   "execution_count": null,
   "metadata": {},
   "outputs": [],
   "source": [
    "txtfile"
   ]
  },
  {
   "cell_type": "markdown",
   "metadata": {},
   "source": [
    "# Functions for Reading Files\n",
    "Basic Python has a number of native functions used to read files. \n",
    "## Native `Open`\n",
    "The function `open` is the simplest and first function to use when opening plain text files. It takes 2 arguments: a string filename and a string option. There are a variety of options you could use, from [geeksforgeeks](https://www.geeksforgeeks.org/open-a-file-in-python/)\n",
    "\n",
    "\n",
    "| Mode | Description |\n",
    "|------|:-------------|\n",
    "| 'r'  | Open text file for reading. Raises an I/O error if the file does not exist. |\n",
    "| 'r+' | Open the file for reading and writing. Raises an I/O error if the file does not exist. |\n",
    "| 'w'  | Open the file for writing. Truncates the file if it already exists. Creates a new file if it does not exist. |\n",
    "| 'w+' | Open the file for reading and writing. Truncates the file if it already exists. Creates a new file if it does not exist. |\n",
    "| 'a'  | Open the file for writing. The data being written will be inserted at the end of the file. Creates a new file if it does not exist. |\n",
    "| 'a+' | Open the file for reading and writing. The data being written will be inserted at the end of the file. Creates a new file if it does not exist. |\n",
    "| 'rb' | Open the file for reading in binary format. Raises an I/O error if the file does not exist. |\n",
    "| 'rb+'| Open the file for reading and writing in binary format. Raises an I/O error if the file does not exist. |\n",
    "| 'wb' | Open the file for writing in binary format. Truncates the file if it already exists. Creates a new file if it does not exist. |\n",
    "| 'wb+'| Open the file for reading and writing in binary format. Truncates the file if it already exists. Creates a new file if it does not exist. |\n",
    "| 'ab' | Open the file for appending in binary format. Inserts data at the end of the file. Creates a new file if it does not exist. |\n",
    "| 'ab+'| Open the file for reading and appending in binary format. Inserts data at the end of the file. Creates a new file if it does not exist. |\n",
    "\n",
    "\n"
   ]
  },
  {
   "cell_type": "code",
   "execution_count": null,
   "metadata": {},
   "outputs": [],
   "source": [
    "#Creates a file handle to reference\n",
    "txthandle = open(txtfile, \"r\")\n",
    "type(txthandle)"
   ]
  },
  {
   "cell_type": "code",
   "execution_count": null,
   "metadata": {},
   "outputs": [],
   "source": [
    "#Get the whole file's content in one string\n",
    "txthandle.read()"
   ]
  },
  {
   "cell_type": "markdown",
   "metadata": {},
   "source": [
    "Be aware with `.read()` it displays the entire file, but then the *file position indicator* shifts to the end of the file. What happens if you try to `read` again?"
   ]
  },
  {
   "cell_type": "code",
   "execution_count": null,
   "metadata": {},
   "outputs": [],
   "source": [
    "#Get the first n characters\n",
    "txthandle.read(19)"
   ]
  },
  {
   "cell_type": "code",
   "execution_count": null,
   "metadata": {},
   "outputs": [],
   "source": [
    "#Read line by line\n",
    "print(txthandle.readline())\n",
    "print(txthandle.readline())"
   ]
  },
  {
   "cell_type": "markdown",
   "metadata": {},
   "source": [
    "## The methods `seek()` and `tell()`\n",
    "The file handle created by `open` keeps track of where it is in the file. The methods `seek` and `tell` exist to let you control and query the location of the file handle within the file. "
   ]
  },
  {
   "cell_type": "code",
   "execution_count": null,
   "metadata": {},
   "outputs": [],
   "source": [
    "#seek method allows you to move around the file\n",
    "txthandle.seek(7)"
   ]
  },
  {
   "cell_type": "code",
   "execution_count": null,
   "metadata": {},
   "outputs": [],
   "source": [
    "txthandle.tell()"
   ]
  },
  {
   "cell_type": "code",
   "execution_count": null,
   "metadata": {},
   "outputs": [],
   "source": [
    "txthandle.read(6)"
   ]
  },
  {
   "cell_type": "code",
   "execution_count": null,
   "metadata": {},
   "outputs": [],
   "source": [
    "#Always close your file handle!\n",
    "txthandle.close()"
   ]
  },
  {
   "cell_type": "markdown",
   "metadata": {},
   "source": [
    "Great! Can the `open` function open more complicated files? Sure! But beware that even more special characters may appear."
   ]
  },
  {
   "cell_type": "code",
   "execution_count": null,
   "metadata": {},
   "outputs": [],
   "source": [
    "csvhandle = open(csvfile,'r')"
   ]
  },
  {
   "cell_type": "code",
   "execution_count": null,
   "metadata": {
    "scrolled": true
   },
   "outputs": [],
   "source": [
    "csvhandle.read()"
   ]
  },
  {
   "cell_type": "code",
   "execution_count": null,
   "metadata": {
    "scrolled": true
   },
   "outputs": [],
   "source": [
    "csvhandle.read(81)"
   ]
  },
  {
   "cell_type": "code",
   "execution_count": null,
   "metadata": {
    "scrolled": true
   },
   "outputs": [],
   "source": [
    "csvhandle.readline()\n",
    "csvhandle.readline()\n"
   ]
  },
  {
   "cell_type": "code",
   "execution_count": null,
   "metadata": {},
   "outputs": [],
   "source": [
    "csvhandle.close()"
   ]
  },
  {
   "cell_type": "markdown",
   "metadata": {},
   "source": [
    "## Numpy\n",
    "The package `numpy` contains functions for reading files; two are `loadtxt` and `genfrom txt`. \n",
    "\n",
    "`loadtxt` reads the file data into a numpy array."
   ]
  },
  {
   "cell_type": "code",
   "execution_count": null,
   "metadata": {},
   "outputs": [],
   "source": [
    "import numpy as np\n",
    "temps = np.loadtxt(txtfile)\n",
    "type(temps)"
   ]
  },
  {
   "cell_type": "code",
   "execution_count": null,
   "metadata": {},
   "outputs": [],
   "source": [
    "temps[1,1]"
   ]
  },
  {
   "cell_type": "code",
   "execution_count": null,
   "metadata": {},
   "outputs": [],
   "source": [
    "temps[1][1]"
   ]
  },
  {
   "cell_type": "markdown",
   "metadata": {},
   "source": [
    "The function `genfromtxt` is more functional in that it can return a masked array and use filling values for **missing data**. To read a file, however, you must specify a `delimiter`, the character that separates values in the file."
   ]
  },
  {
   "cell_type": "code",
   "execution_count": null,
   "metadata": {},
   "outputs": [],
   "source": [
    "temp = np.genfromtxt(txtfile,delimiter='\\t')\n",
    "temp"
   ]
  },
  {
   "cell_type": "code",
   "execution_count": null,
   "metadata": {},
   "outputs": [],
   "source": [
    "sunspots = np.genfromtxt(csvfile,delimiter=',')\n",
    "sunspots"
   ]
  },
  {
   "cell_type": "code",
   "execution_count": null,
   "metadata": {},
   "outputs": [],
   "source": [
    "sunspots = np.genfromtxt(csvfile,delimiter=',', usemask = True, filling_values=np.nan)\n",
    "sunspots"
   ]
  },
  {
   "cell_type": "markdown",
   "metadata": {},
   "source": [
    "## Common Way with no 'close' necessary\n",
    "Using the `with` command with `open` allows you a quick and concise way of reading a file without having to close your file handle. Below is an example of the syntax."
   ]
  },
  {
   "cell_type": "code",
   "execution_count": null,
   "metadata": {},
   "outputs": [],
   "source": [
    "with open(txtfile) as glob:\n",
    "    #print(glob.read())\n",
    "    temps = glob.read()"
   ]
  },
  {
   "cell_type": "code",
   "execution_count": null,
   "metadata": {},
   "outputs": [],
   "source": [
    "temps"
   ]
  },
  {
   "cell_type": "code",
   "execution_count": null,
   "metadata": {},
   "outputs": [],
   "source": [
    "#What happens with the with open formulation??\n",
    "glob.readline()"
   ]
  },
  {
   "cell_type": "markdown",
   "metadata": {},
   "source": [
    "## Pandas (A first look)\n",
    "When loading in the package `pandas`, we can use the `read_table()` function to pull data from text file. You could also use the `read_csv()` with `sep= \"\\t\"` to read data from tab-separated file or with `sep=\\s+` for space separated values. By default, python will look for a header row unless otherwise specified. `pandas` imports data from the files as `dataframes`. All the functions below will return a `dataframe`, an object in Python that stores data and allows access with a certain syntax that I often refer to as \"dot notation\"."
   ]
  },
  {
   "cell_type": "code",
   "execution_count": null,
   "metadata": {
    "scrolled": true
   },
   "outputs": [],
   "source": [
    "import pandas as pd\n",
    "txt1 = pd.read_table(txtfile, header=None,names=['year','temp'])\n",
    "txt2 = pd.read_csv(txtfile,header=None,sep='\\s+')\n",
    "csv1 = pd.read_csv(csvfile,header=None)\n",
    "csv2 = pd.read_csv(csvfile,header=None,names = ['year', 'numspots', 'stdev','Nobs','confirmed'])"
   ]
  },
  {
   "cell_type": "code",
   "execution_count": null,
   "metadata": {
    "scrolled": true
   },
   "outputs": [],
   "source": [
    "txt1"
   ]
  },
  {
   "cell_type": "code",
   "execution_count": null,
   "metadata": {},
   "outputs": [],
   "source": [
    "txt2"
   ]
  },
  {
   "cell_type": "code",
   "execution_count": null,
   "metadata": {
    "scrolled": true
   },
   "outputs": [],
   "source": [
    "csv2"
   ]
  },
  {
   "cell_type": "code",
   "execution_count": null,
   "metadata": {},
   "outputs": [],
   "source": [
    "type(csv2)"
   ]
  },
  {
   "cell_type": "markdown",
   "metadata": {},
   "source": [
    "You can even add column names while loading the file:"
   ]
  },
  {
   "cell_type": "markdown",
   "metadata": {},
   "source": [
    "If you look at csvfile, you'll see some columns with `-1` as a value; this indicates *missing data*. Classifying your missing data properly will help you avoid accidential using the value in a calculation. You can specify this with another option:"
   ]
  },
  {
   "cell_type": "code",
   "execution_count": null,
   "metadata": {
    "scrolled": true
   },
   "outputs": [],
   "source": [
    "csv3 = pd.read_csv(csvfile,header=None,names = ['year', 'numspots', 'stdev','Nobs','confirmed'],na_values=['-1'])\n",
    "#csv3.stdev\n",
    "print(csv3)\n",
    "csv3['stdev']"
   ]
  },
  {
   "cell_type": "markdown",
   "metadata": {},
   "source": [
    "### Reading Excel files with Pandas\n",
    "Python will read excel files in the same manner. You can specify sheets and column/row in which to import. "
   ]
  },
  {
   "cell_type": "code",
   "execution_count": null,
   "metadata": {
    "scrolled": true
   },
   "outputs": [],
   "source": [
    "xcel1 = pd.read_excel(xlsfile,sheet_name=\"Global Carbon Budget\", skiprows=20,header=0)"
   ]
  },
  {
   "cell_type": "code",
   "execution_count": null,
   "metadata": {},
   "outputs": [],
   "source": [
    "print(xcel1)\n",
    "print(type(xcel1))\n",
    "xcel1['Year'][2]"
   ]
  },
  {
   "cell_type": "markdown",
   "metadata": {},
   "source": [
    "# Exercise: Reading Files Practice\n",
    "\n",
    "**Part A: Multiple Reading Methods**\n",
    "1. Read `globaltemps.txt` using the native `open()` function and print the first line.\n",
    "2. Read the same file using `pandas` with column names ['year', 'temp'].\n",
    "3. Read it using `np.genfromtxt()` with the correct delimiter.\n",
    "4. Compare: What data types do you get from pandas vs numpy?.\n",
    "\n",
    "**Part B: Data Access**\n",
    "1. Using your pandas dataframe, find the temperature for the year 1900.\n",
    "2. Print the rows of temperature data from 1900 to 1920."
   ]
  },
  {
   "cell_type": "code",
   "execution_count": 3,
   "metadata": {},
   "outputs": [
    {
     "name": "stdout",
     "output_type": "stream",
     "text": [
      "1850\t-0.17\n",
      "\n"
     ]
    }
   ],
   "source": [
    "import os as os\n",
    "file=open('data/globaltemps.txt','r')\n",
    "first_line=file.readline()\n",
    "print(first_line)"
   ]
  },
  {
   "cell_type": "code",
   "execution_count": 12,
   "metadata": {},
   "outputs": [
    {
     "name": "stdout",
     "output_type": "stream",
     "text": [
      "     year  temp\n",
      "0    1850 -0.17\n",
      "1    1851 -0.09\n",
      "2    1852 -0.10\n",
      "3    1853 -0.12\n",
      "4    1854 -0.11\n",
      "..    ...   ...\n",
      "169  2019  0.98\n",
      "170  2020  1.01\n",
      "171  2021  0.86\n",
      "172  2022  0.91\n",
      "173  2023  1.18\n",
      "\n",
      "[174 rows x 2 columns]\n"
     ]
    }
   ],
   "source": [
    "import pandas as pd\n",
    "dftemps = pd.read_csv('data/globaltemps.txt', sep='\\s+', header=None, names=['year', 'temp'])\n",
    "print(dftemps)"
   ]
  },
  {
   "cell_type": "code",
   "execution_count": 13,
   "metadata": {},
   "outputs": [
    {
     "name": "stdout",
     "output_type": "stream",
     "text": [
      "[[ 1.850e+03 -1.700e-01]\n",
      " [ 1.851e+03 -9.000e-02]\n",
      " [ 1.852e+03 -1.000e-01]\n",
      " [ 1.853e+03 -1.200e-01]\n",
      " [ 1.854e+03 -1.100e-01]]\n"
     ]
    }
   ],
   "source": [
    "import numpy as np\n",
    "data = np.genfromtxt('data/globaltemps.txt', delimiter=None)   \n",
    "print(data[:5])\n"
   ]
  },
  {
   "cell_type": "code",
   "execution_count": 14,
   "metadata": {},
   "outputs": [
    {
     "data": {
      "text/plain": [
       "numpy.ndarray"
      ]
     },
     "execution_count": 14,
     "metadata": {},
     "output_type": "execute_result"
    }
   ],
   "source": [
    "type(data)"
   ]
  },
  {
   "cell_type": "code",
   "execution_count": 18,
   "metadata": {},
   "outputs": [
    {
     "data": {
      "text/plain": [
       "pandas.core.frame.DataFrame"
      ]
     },
     "execution_count": 18,
     "metadata": {},
     "output_type": "execute_result"
    }
   ],
   "source": [
    "type(dftemps)"
   ]
  },
  {
   "cell_type": "code",
   "execution_count": 21,
   "metadata": {},
   "outputs": [
    {
     "name": "stdout",
     "output_type": "stream",
     "text": [
      "50   -0.08\n",
      "Name: temp, dtype: float64\n"
     ]
    }
   ],
   "source": [
    "temp_1900 = dftemps.loc[dftemps['year'] == 1900, 'temp']\n",
    "print(temp_1900)"
   ]
  },
  {
   "cell_type": "code",
   "execution_count": 16,
   "metadata": {},
   "outputs": [
    {
     "name": "stdout",
     "output_type": "stream",
     "text": [
      "    year  temp\n",
      "50  1900 -0.08\n",
      "51  1901 -0.13\n",
      "52  1902 -0.23\n",
      "53  1903 -0.32\n",
      "54  1904 -0.43\n",
      "55  1905 -0.24\n",
      "56  1906 -0.21\n",
      "57  1907 -0.34\n",
      "58  1908 -0.40\n",
      "59  1909 -0.44\n",
      "60  1910 -0.40\n",
      "61  1911 -0.41\n",
      "62  1912 -0.33\n",
      "63  1913 -0.33\n",
      "64  1914 -0.14\n",
      "65  1915 -0.10\n",
      "66  1916 -0.31\n",
      "67  1917 -0.44\n",
      "68  1918 -0.29\n",
      "69  1919 -0.24\n",
      "70  1920 -0.25\n"
     ]
    }
   ],
   "source": [
    "data=dftemps[(dftemps ['year']>=1900) & (dftemps['year']<=1920)]\n",
    "print(data)"
   ]
  },
  {
   "cell_type": "markdown",
   "metadata": {},
   "source": [
    "## Writing to a Plain Text file\n",
    "Python contains builtin functions to output information to a plain text file. It involves opening a file to write to, writing to that file, and then closing said file. "
   ]
  },
  {
   "cell_type": "code",
   "execution_count": null,
   "metadata": {},
   "outputs": [],
   "source": [
    "txt1"
   ]
  },
  {
   "cell_type": "code",
   "execution_count": null,
   "metadata": {
    "scrolled": true
   },
   "outputs": [],
   "source": [
    "#txt1 = txt1.to_string()\n",
    "f= open(\"test1.txt\",\"w+\")\n",
    "f.write(temps)\n",
    "f.write('\\n')\n",
    "f.close()"
   ]
  },
  {
   "cell_type": "markdown",
   "metadata": {},
   "source": [
    "You may also append a file (add to it without overwriting)."
   ]
  },
  {
   "cell_type": "code",
   "execution_count": null,
   "metadata": {
    "scrolled": true
   },
   "outputs": [],
   "source": [
    "f= open(\"test1.txt\",\"a+\")\n",
    "f.write(temps)\n",
    "f.write('\\n')\n",
    "f.close()"
   ]
  },
  {
   "cell_type": "markdown",
   "metadata": {},
   "source": [
    "## Writing to a CSV file\n",
    "Python does have allow you to read to a `csv` file. The details of which are a bit uninformative at this point. But if that is something you want to do, please look into the package `csv`. "
   ]
  },
  {
   "cell_type": "markdown",
   "metadata": {},
   "source": [
    "## Writing to an Excel file\n",
    "`pandas` contains functionality that allows you to write data to a Microsoft Excel file. The method `to_excel` allows you to write data to sheets within the excel spreadsheet, but you will need to wrap the function `ExcelWriter` around `to_excel` in order to write to multiple sheets within the same file. The 'ExcelWriter' function does require more syntax as shown below:  "
   ]
  },
  {
   "cell_type": "code",
   "execution_count": null,
   "metadata": {},
   "outputs": [],
   "source": [
    "#must specify a file, you can specify a sheet\n",
    "csv2.to_excel(\"sunspotsout.xlsx\",sheet_name='sun')\n",
    "xcel1.to_excel(\"sunspotsout.xlsx\",sheet_name='carbon accounting')"
   ]
  },
  {
   "cell_type": "code",
   "execution_count": null,
   "metadata": {
    "scrolled": true
   },
   "outputs": [],
   "source": [
    "with pd.ExcelWriter('pandas_simple.xlsx') as writer:\n",
    "    csv2.to_excel(writer, sheet_name='sun')\n",
    "    xcel1.to_excel(writer, sheet_name='carbon')"
   ]
  },
  {
   "cell_type": "markdown",
   "metadata": {},
   "source": [
    "# Exercise: Writing Files Practice\n",
    "\n",
    "**Part A: Export Your Temperature Analysis**\n",
    "1. Using the temperature dataframe from Exercise 1, create a smaller dataset with only years 1900-1920\n",
    "2. Write this subset to a text file called `early_1900s_temps.txt`\n",
    "\n",
    "**Part B: Excel Export**\n",
    "1. Take the same 1900-1920 temperature data\n",
    "1. Export it to an Excel file called `temp_subset.xlsx` with sheet name 'early_temps'\n",
    "\n",
    "**Part C: Verify Your Work**\n",
    "1. Read your `temp_subset.xlsx` file back into a new dataframe to confirm it worked\n",
    "1. Print the shape of this new dataframe"
   ]
  },
  {
   "cell_type": "code",
   "execution_count": 6,
   "metadata": {},
   "outputs": [],
   "source": [
    "import pandas as pd\n",
    "dftemps = pd.read_csv('data/globaltemps.txt', sep='\\s+', header=None, names=['year', 'temp'])\n",
    "subset = dftemps[(dftemps['year'] >= 1900) & (dftemps['year'] <= 1920)]\n",
    "subset.to_csv('early_1900s_temps.txt', sep='\\t')"
   ]
  },
  {
   "cell_type": "code",
   "execution_count": 7,
   "metadata": {},
   "outputs": [],
   "source": [
    "subset.to_excel('temp_subset.xlsx', sheet_name='early_temps')"
   ]
  },
  {
   "cell_type": "code",
   "execution_count": 9,
   "metadata": {},
   "outputs": [
    {
     "name": "stdout",
     "output_type": "stream",
     "text": [
      "Shape of the new dataframe: (21, 3)\n"
     ]
    }
   ],
   "source": [
    "check = pd.read_excel('temp_subset.xlsx', sheet_name='early_temps')\n",
    "\n",
    "print(\"Shape of the new dataframe:\", check.shape)\n",
    "\n"
   ]
  },
  {
   "cell_type": "code",
   "execution_count": null,
   "metadata": {},
   "outputs": [],
   "source": []
  }
 ],
 "metadata": {
  "kernelspec": {
   "display_name": "Python [conda env:base] *",
   "language": "python",
   "name": "conda-base-py"
  },
  "language_info": {
   "codemirror_mode": {
    "name": "ipython",
    "version": 3
   },
   "file_extension": ".py",
   "mimetype": "text/x-python",
   "name": "python",
   "nbconvert_exporter": "python",
   "pygments_lexer": "ipython3",
   "version": "3.13.5"
  }
 },
 "nbformat": 4,
 "nbformat_minor": 4
}
